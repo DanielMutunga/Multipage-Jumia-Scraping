{
 "cells": [
  {
   "cell_type": "code",
   "execution_count": 2,
   "id": "31da56ae-9511-486e-bea7-6f2fe1cd818f",
   "metadata": {},
   "outputs": [],
   "source": [
    "from bs4 import BeautifulSoup\n",
    "import requests"
   ]
  },
  {
   "cell_type": "code",
   "execution_count": 7,
   "id": "c62dc68a-eb02-41bc-a6d8-08ce2ddba2bb",
   "metadata": {},
   "outputs": [],
   "source": [
    "Headers = []\n",
    "row_data = []\n",
    "\n",
    "for i in range(1,51):\n",
    "    url = 'https://www.jumia.co.ke/smartphones/'\n",
    "    nnp = url + \"?page=\" + str(i) + \"#catalog_listing\"\n",
    "    #print(nnp)\n",
    "    URL = nnp\n",
    "    Page = requests.get(URL)\n",
    "    Webpage = BeautifulSoup(Page.text,'html')\n",
    "    Box = Webpage.find('div',class_='-pvs col12')\n",
    "    #Get the phone Names\n",
    "    names = Box.find_all(class_='name')\n",
    "    \n",
    "    #Convert the phone Names into a list\n",
    "    for j in names:\n",
    "        H = j.text\n",
    "        Headers.append(H)\n",
    "    #print(Headers)\n",
    "    #Get the phone Prices\n",
    "    prices = Box.find_all(\"div\",class_='prc')\n",
    "    \n",
    "    #Convert the phone Prices into a list\n",
    "    for i in prices:\n",
    "        r = i.text\n",
    "        row_data.append(r)\n",
    "    import pandas as pd\n",
    "    df = pd.DataFrame({\"Product Name\":Headers,\"Product Price\":row_data})\n",
    "    df.to_csv(r\"C:\\Users\\Lundi CDC\\Desktop\\Web Scapping\\Last_Option_now.csv\",index=False)"
   ]
  },
  {
   "cell_type": "code",
   "execution_count": 9,
   "id": "c0ca39e3-7165-4d3c-8f4f-52682768b0ee",
   "metadata": {},
   "outputs": [],
   "source": []
  },
  {
   "cell_type": "code",
   "execution_count": null,
   "id": "2e352edb-b9cc-4ea6-8f3f-9209605111f4",
   "metadata": {},
   "outputs": [],
   "source": []
  }
 ],
 "metadata": {
  "kernelspec": {
   "display_name": "Python 3 (ipykernel)",
   "language": "python",
   "name": "python3"
  },
  "language_info": {
   "codemirror_mode": {
    "name": "ipython",
    "version": 3
   },
   "file_extension": ".py",
   "mimetype": "text/x-python",
   "name": "python",
   "nbconvert_exporter": "python",
   "pygments_lexer": "ipython3",
   "version": "3.11.5"
  }
 },
 "nbformat": 4,
 "nbformat_minor": 5
}
